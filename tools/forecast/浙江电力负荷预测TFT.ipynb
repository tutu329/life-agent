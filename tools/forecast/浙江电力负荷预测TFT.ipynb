{
 "cells": [
  {
   "cell_type": "markdown",
   "metadata": {},
   "source": [
    "# 浙江电力负荷预测-Temporal Fusion Transformer\n",
    "In this notebook, we show two examples of how two use Darts' `TFTModel`.\n",
    "If you are new to darts, we recommend you first follow the [quick start](https://unit8co.github.io/darts/quickstart/00-quickstart.html) notebook."
   ]
  },
  {
   "cell_type": "code",
   "execution_count": 1,
   "metadata": {},
   "outputs": [],
   "source": [
    "# fix python path if working locally\n",
    "from utils import fix_pythonpath_if_working_locally\n",
    "\n",
    "fix_pythonpath_if_working_locally()"
   ]
  },
  {
   "cell_type": "code",
   "execution_count": 2,
   "metadata": {},
   "outputs": [],
   "source": [
    "%load_ext autoreload\n",
    "%autoreload 2\n",
    "%matplotlib inline"
   ]
  },
  {
   "cell_type": "code",
   "execution_count": 3,
   "metadata": {
    "tags": []
   },
   "outputs": [],
   "source": [
    "import numpy as np\n",
    "import pandas as pd\n",
    "from tqdm import tqdm_notebook as tqdm\n",
    "\n",
    "import matplotlib.pyplot as plt\n",
    "\n",
    "from darts import TimeSeries, concatenate\n",
    "from darts.dataprocessing.transformers import Scaler\n",
    "from darts.models import TFTModel\n",
    "from darts.metrics import mape\n",
    "from darts.utils.statistics import check_seasonality, plot_acf\n",
    "from darts.datasets import AirPassengersDataset, IceCreamHeaterDataset\n",
    "from darts.utils.timeseries_generation import datetime_attribute_timeseries\n",
    "from darts.utils.likelihood_models import QuantileRegression\n",
    "\n",
    "import warnings\n",
    "\n",
    "warnings.filterwarnings(\"ignore\")\n",
    "import logging\n",
    "\n",
    "logging.disable(logging.CRITICAL)"
   ]
  },
  {
   "cell_type": "markdown",
   "metadata": {},
   "source": [
    "## Temporal Fusion Transformer (TFT)\n",
    "\n",
    "Darts' `TFTModel` incorporates the following main components from the original Temporal Fusion Transformer (TFT) architecture as outlined in [this paper](https://arxiv.org/pdf/1912.09363.pdf):\n",
    "\n",
    "- gating mechanisms: skip over unused components of the model architecture\n",
    "- variable selection networks: select relevant input variables at each time step.\n",
    "- temporal processing of past and future input with LSTMs (long short-term memory)\n",
    "- multi-head attention: captures long-term temporal dependencies\n",
    "- prediction intervals: per default, produces quantile forecasts instead of deterministic values\n",
    "\n",
    "### Training\n",
    "`TFTModel` can be trained with past and future covariates. It is trained sequentially on fixed-size chunks consisting of an encoder and a decoder part:\n",
    "\n",
    "- encoder: past input with `input_chunk_length`\n",
    "  - **past target**: mandatory\n",
    "  - **past covariates**: optional\n",
    "- decoder: future known input with `output_chunk_length`\n",
    "  - **future covariates**: mandatory (if none are available, consider `TFTModel`'s optional arguments `add_encoders` or `add_relative_index` from [here](https://unit8co.github.io/darts/generated_api/darts.models.forecasting.tft_model.html?highlight=tftmodel#temporal-fusion-transformer-tft))\n",
    "\n",
    "In each iteration, the model produces a quantile prediction of shape `(output_chunk_length, n_quantiles)` on the decoder part.\n",
    "\n",
    "### Forecast\n",
    "#### Probabilistic Forecast\n",
    "Per default, `TFTModel` produces probabilistic quantile forecasts using `QuantileRegression`.\n",
    "This gives the range of likely target values at each prediction step.\n",
    "Most deep learning models in Darts'  - including `TFTModel` -  support `QuantileRegression` and 16 other likelihoods to produce probabilistic forecasts by setting `likelihood=MyLikelihood()` at model creation.\n",
    "\n",
    "To produce meaningful results, set `num_samples >> 1` when predicting. For example:\n",
    "\n",
    "```\n",
    "model.predict(*args, **kwargs, num_samples=200)\n",
    "```\n",
    "\n",
    "Predictions with forecasting horizon `n` are generated auto-regressively using encoder-decoder chunks of the same size as during training.\n",
    "\n",
    "If `n > output_chunk_length`, you have to supply additional future values for the covariates you passed to `model.train()`.\n",
    "\n",
    "#### Deterministic Forecast\n",
    "To produce deterministic rather than probabilistic forecasts, set parameter `likelihood` to `None` and `loss_fn` to a PyTorch loss function at model creation. For example:\n",
    "\n",
    "```\n",
    "model = TFTModel(*args, **kwargs, likelihood=None, loss_fn=torch.nn.MSELoss())\n",
    "...\n",
    "model.predict(*args, **kwargs, num_samples=1)\n",
    "```"
   ]
  },
  {
   "cell_type": "code",
   "execution_count": 4,
   "metadata": {},
   "outputs": [],
   "source": [
    "# before starting, we define some constants\n",
    "num_samples = 200\n",
    "\n",
    "figsize = (9, 6)\n",
    "lowest_q, low_q, high_q, highest_q = 0.01, 0.1, 0.9, 0.99\n",
    "label_q_outer = f\"{int(lowest_q * 100)}-{int(highest_q * 100)}th percentiles\"\n",
    "label_q_inner = f\"{int(low_q * 100)}-{int(high_q * 100)}th percentiles\""
   ]
  },
  {
   "cell_type": "markdown",
   "metadata": {},
   "source": [
    "## Example\n",
    "This data set that is highly dependent on covariates. Knowing the month tells us a lot about the seasonal component, whereas the year determines the effect of the trend component.\n",
    "\n",
    "Additionally, let's convert the time index to integer values and use them as covariates as well. \n",
    "\n",
    "All of the three covariates are known in the future, and can be used as `future_covariates` with the `TFTModel`."
   ]
  },
  {
   "cell_type": "code",
   "execution_count": 5,
   "metadata": {},
   "outputs": [],
   "source": [
    "# Read data\n",
    "#series = AirPassengersDataset().load()\n",
    "\n",
    "# we convert monthly number of passengers to average daily number of passengers per month\n",
    "#series = series / TimeSeries.from_series(series.time_index.days_in_month)\n",
    "#series = series.astype(np.float32)\n",
    "\n",
    "ts = pd.read_csv('/home/tutu/darts/datasets/data.csv')\n",
    "#print(ts)\n",
    "series = TimeSeries.from_dataframe(ts, time_col='year')\n",
    "\n",
    "start_year = pd.Timestamp(\"2021-01\")\n",
    "train, val = series.split_after(start_year)\n",
    "\n",
    "\n",
    "ld = series.pd_dataframe().values.tolist()\n",
    "ld = [f'{item[0]:.2f}' for item in ld]\n",
    "#####print(f'[ld]({len(ld)}): {ld}')\n",
    "\n",
    "# Create training and validation sets:\n",
    "# training_cutoff = pd.Timestamp(\"19571201\")\n",
    "training_cutoff = start_year\n",
    "train, val = series.split_after(training_cutoff)\n",
    "\n",
    "# Normalize the time series (note: we avoid fitting the transformer on the validation set)\n",
    "transformer = Scaler()\n",
    "train_transformed = transformer.fit_transform(train)\n",
    "val_transformed = transformer.transform(val)\n",
    "series_transformed = transformer.transform(series)\n",
    "\n",
    "# create year, month and integer index covariate series\n",
    "# -----------------------------------------1--------------------------------------------\n",
    "#covariates1 = datetime_attribute_timeseries(series, attribute=\"year\", one_hot=False)\n",
    "\n",
    "#####print(f'{\"=\"*80}')\n",
    "series1 = series\n",
    "year_list = [\n",
    "        \"2024-01\", \"2025-01\", \"2026-01\",\n",
    "        \"2027-01\", \"2028-01\", \"2029-01\",\n",
    "        \"2030-01\", \"2031-01\", \"2032-01\",\n",
    "        \"2033-01\", \"2034-01\", \"2035-01\",\n",
    "        \"2036-01\", \"2037-01\", \"2038-01\",\n",
    "        \"2039-01\", \"2040-01\",\n",
    "    ]\n",
    "new_data = pd.DataFrame({\n",
    "    \"year\":year_list,\n",
    "    \"power\":[0.0]*len(year_list),\n",
    "    \"electricity\":[0.0]*len(year_list),\n",
    "})\n",
    "series1 = series1.append(TimeSeries.from_dataframe(new_data, time_col='year'))\n",
    "#####print(f'-------------series1: {series1}------------')\n",
    "\n",
    "\n",
    "\n",
    "\n",
    "\n",
    "\n",
    "\n",
    "\n",
    "ldss = series.pd_dataframe().values.tolist()\n",
    "ldss = [f'{item[0]:.2f}' for item in ldss]\n",
    "#####print(f'[ldss]({len(ldss)}): {ldss}')\n",
    "\n",
    "#print(f'{\"=\"*80}')\n",
    "#series1.append_values([3,3,3,3])\n",
    "\n",
    "ldss1 = series1.pd_dataframe().values.tolist()\n",
    "ldss1 = [f'{item[0]:.2f}' for item in ldss1]\n",
    "#####print(f'[ldss1]({len(ldss1)}): {ldss1}')\n",
    "\n",
    "\n",
    "\n",
    "covariates1 = datetime_attribute_timeseries(series1, attribute=\"day\", one_hot=False)\n",
    "#####print(f'{\"=\"*80}')\n",
    "ld1_covariates = covariates1.pd_dataframe().values.tolist()\n",
    "#####print(f'ld1_covariates: {ld1_covariates}')\n",
    "\n",
    "# -----------------------------------------2--------------------------------------------\n",
    "covariates2 = covariates1.stack(\n",
    "    #datetime_attribute_timeseries(series, attribute=\"month\", one_hot=False)\n",
    "    datetime_attribute_timeseries(series1, attribute=\"day\", one_hot=False)\n",
    ")\n",
    "#####print(f'{\"=\"*80}')\n",
    "ld2_covariates = covariates2.pd_dataframe().values.tolist()\n",
    "# print(f'ld2_covariates: {ld2_covariates}')\n",
    "\n",
    "# -----------------------------------------3--------------------------------------------\n",
    "covariates3 = covariates2.stack(\n",
    "    TimeSeries.from_times_and_values(\n",
    "        times=series1.time_index,\n",
    "        values=np.arange(len(series1)),\n",
    "        columns=[\"linear_increase\"],\n",
    "    )\n",
    ")\n",
    "\n",
    "covariates3 = covariates3.astype(np.float32)\n",
    "#####print(f'{\"=\"*80}')\n",
    "ld3_covariates = covariates3.pd_dataframe().values.tolist()\n",
    "#####print(f'ld3_covariates: {ld3_covariates}')\n",
    "\n",
    "# -------------------------------------------------------------------------------------\n",
    "co = covariates3\n",
    "#co['month'] = 1.0\n",
    "#print(co)\n",
    "\n",
    "#test = co.pd_dataframe().values.tolist()\n",
    "#for item in test:\n",
    "#    item[1] = 1.0\n",
    "    \n",
    "#print(f'test: {test}')\n",
    "#co = pd.DataFrame(test, columns=['year', 'month', 'day'])\n",
    "#test1 = co.values.tolist()\n",
    "#print(f'test1: {test1}')\n",
    "\n",
    "#co = TimeSeries.from_dataframe(co, time_col='day')\n",
    "\n",
    "\n",
    "\n",
    "\n",
    "\n",
    "# transform covariates (note: we fit the transformer on train split and can then transform the entire covariates series)\n",
    "scaler_covs = Scaler()\n",
    "cov_train, cov_val = co.split_after(training_cutoff)\n",
    "scaler_covs.fit(cov_train)\n",
    "covariates_transformed = scaler_covs.transform(co)\n",
    "#####print(f'{\"=\"*80}')\n",
    "ld1_covariates_transformed = covariates_transformed.pd_dataframe().values.tolist()\n",
    "#####print(f'ld1_covariates_transformed({len(ld1_covariates_transformed)}): {ld1_covariates_transformed}')"
   ]
  },
  {
   "cell_type": "markdown",
   "metadata": {},
   "source": [
    "### Create a model\n",
    "If you want to produce deterministic forecasts rather than quantile forecasts, you can use a PyTorch loss function (i.e., set `loss_fn=torch.nn.MSELoss()` and `likelihood=None`).\n",
    "\n",
    "The `TFTModel` can only be used if some future input is given. Optional parameters `add_encoders` and `add_relative_index` can be useful, especially if we don't have\n",
    "any future input available.<br>\n",
    "They generate encoded temporal data that is used as future covariates.\n",
    "\n",
    "Since we already have future covariates defined in our example they are commented out."
   ]
  },
  {
   "cell_type": "code",
   "execution_count": 6,
   "metadata": {},
   "outputs": [],
   "source": [
    "# default quantiles for QuantileRegression\n",
    "quantiles = [\n",
    "    0.01,\n",
    "    0.05,\n",
    "    0.1,\n",
    "    0.15,\n",
    "    0.2,\n",
    "    0.25,\n",
    "    0.3,\n",
    "    0.4,\n",
    "    0.5,\n",
    "    0.6,\n",
    "    0.7,\n",
    "    0.75,\n",
    "    0.8,\n",
    "    0.85,\n",
    "    0.9,\n",
    "    0.95,\n",
    "    0.99,\n",
    "]\n",
    "#input_chunk_length = 24\n",
    "#forecast_horizon = 12\n",
    "input_chunk_length = 12\n",
    "forecast_horizon = 6\n",
    "my_model = TFTModel(\n",
    "    input_chunk_length=input_chunk_length,\n",
    "    output_chunk_length=forecast_horizon,\n",
    "    hidden_size=64,\n",
    "    lstm_layers=1,\n",
    "    num_attention_heads=4,\n",
    "    dropout=0.1,\n",
    "    batch_size=16,\n",
    "    n_epochs=300,\n",
    "    add_relative_index=False,\n",
    "    add_encoders=None,\n",
    "    likelihood=QuantileRegression(\n",
    "        quantiles=quantiles\n",
    "    ),  # QuantileRegression is set per default\n",
    "    # loss_fn=MSELoss(),\n",
    "    random_state=42,\n",
    ")"
   ]
  },
  {
   "cell_type": "markdown",
   "metadata": {},
   "source": [
    "### Train the TFT\n",
    "\n",
    "In what follows, we can just provide the whole `covariates` series as `future_covariates` argument to the model; the model will slice these covariates and use only what it needs in order to train on forecasting the target `train_transformed`:"
   ]
  },
  {
   "cell_type": "code",
   "execution_count": 7,
   "metadata": {},
   "outputs": [
    {
     "data": {
      "application/vnd.jupyter.widget-view+json": {
       "model_id": "1f3ad93479844f7f9b2c4ab02315c843",
       "version_major": 2,
       "version_minor": 0
      },
      "text/plain": [
       "Training: |          | 0/? [00:00<?, ?it/s]"
      ]
     },
     "metadata": {},
     "output_type": "display_data"
    },
    {
     "data": {
      "text/plain": [
       "TFTModel(output_chunk_shift=0, hidden_size=64, lstm_layers=1, num_attention_heads=4, full_attention=False, feed_forward=GatedResidualNetwork, dropout=0.1, hidden_continuous_size=8, categorical_embedding_sizes=None, add_relative_index=False, loss_fn=None, likelihood=QuantileRegression(quantiles: Optional[List[float]] = None), norm_type=LayerNorm, use_static_covariates=True, input_chunk_length=12, output_chunk_length=6, batch_size=16, n_epochs=300, add_encoders=None, random_state=42)"
      ]
     },
     "execution_count": 7,
     "metadata": {},
     "output_type": "execute_result"
    }
   ],
   "source": [
    "my_model.fit(train_transformed, future_covariates=covariates_transformed, verbose=True)\n",
    "#my_cov = TimeSeries.from_dataframe(pd.DataFrame(range(0,144)))\n",
    "# = TimeSeries.from_dataframe(ts, time_col='year')\n",
    "\n",
    "#my_model.fit(train_transformed, future_covariates=my_cov, verbose=True)"
   ]
  },
  {
   "cell_type": "markdown",
   "metadata": {},
   "source": [
    "### Look at predictions on the validation set\n",
    "We perform a one-shot prediction of 24 months using the \"current\" model - i.e., the model at the end of the training procedure:"
   ]
  },
  {
   "cell_type": "code",
   "execution_count": 60,
   "metadata": {},
   "outputs": [
    {
     "data": {
      "application/vnd.jupyter.widget-view+json": {
       "model_id": "a30b7404503d4e0f91ae6101d10fcc2c",
       "version_major": 2,
       "version_minor": 0
      },
      "text/plain": [
       "Predicting: |          | 0/? [00:00<?, ?it/s]"
      ]
     },
     "metadata": {},
     "output_type": "display_data"
    },
    {
     "name": "stdout",
     "output_type": "stream",
     "text": [
      "max1: 10707.046746587306\n",
      "max2: 6149.38812652701\n",
      "max1: 11512.197237368637\n",
      "max2: 6498.200586871489\n",
      "max1: 12257.945524572464\n",
      "max2: 6837.472103000336\n",
      "max1: 12872.122509608316\n",
      "max2: 7121.927154048288\n",
      "max1: 13356.303628263182\n",
      "max2: 7350.017274322092\n",
      "max1: 13690.958753194816\n",
      "max2: 7531.706797565179\n",
      "max1: 13283.033695783255\n",
      "max2: 7473.337327516856\n",
      "max1: 13865.999892688971\n",
      "max2: 7678.771006954473\n",
      "max1: 14268.071743647313\n",
      "max2: 7840.490158676605\n",
      "max1: 14575.062472966152\n",
      "max2: 7965.088742855792\n",
      "max1: 14798.130961748971\n",
      "max2: 8064.054761248596\n",
      "max1: 14941.374552421155\n",
      "max2: 8145.066380098854\n",
      "max1: 14685.276872082275\n",
      "max2: 8143.9118534421705\n",
      "max1: 14798.197099126426\n",
      "max2: 7914.263765206836\n",
      "max1: 15067.924196122794\n",
      "max2: 8269.519099879592\n",
      "max1: 15196.510702190912\n",
      "max2: 8325.209801207657\n",
      "max1: 15401.444215021602\n",
      "max2: 8379.398741443394\n",
      "max1: 15509.17025012491\n",
      "max2: 8428.570063276167\n",
      "max1: 15646.41843679187\n",
      "max2: 8473.103246707633\n",
      "output:\n",
      "10707.046746587306\n",
      "11512.197237368637\n",
      "12257.945524572464\n",
      "12872.122509608316\n",
      "13356.303628263182\n",
      "13690.958753194816\n",
      "13283.033695783255\n",
      "13865.999892688971\n",
      "14268.071743647313\n",
      "14575.062472966152\n",
      "14798.130961748971\n",
      "14941.374552421155\n",
      "14685.276872082275\n",
      "14798.197099126426\n",
      "15067.924196122794\n",
      "15196.510702190912\n",
      "15401.444215021602\n",
      "15509.17025012491\n",
      "15646.41843679187\n",
      "6149.38812652701\n",
      "6498.200586871489\n",
      "6837.472103000336\n",
      "7121.927154048288\n",
      "7350.017274322092\n",
      "7531.706797565179\n",
      "7473.337327516856\n",
      "7678.771006954473\n",
      "7840.490158676605\n",
      "7965.088742855792\n",
      "8064.054761248596\n",
      "8145.066380098854\n",
      "8143.9118534421705\n",
      "7914.263765206836\n",
      "8269.519099879592\n",
      "8325.209801207657\n",
      "8379.398741443394\n",
      "8428.570063276167\n",
      "8473.103246707633\n"
     ]
    },
    {
     "data": {
      "image/png": "[encoded data removed]",
      "text/plain": [
       "<Figure size 900x600 with 1 Axes>"
      ]
     },
     "metadata": {},
     "output_type": "display_data"
    }
   ],
   "source": [
    "def eval_model(model, n, actual_series, val_series):\n",
    "    pred_series = model.predict(n=n, num_samples=num_samples)\n",
    "    #print(f'pred_series: {pred_series}')\n",
    "    ld = pred_series.pd_dataframe()\n",
    "    #print(f'prediction result: {ld}')\n",
    "\n",
    "    ld = pred_series.pd_dataframe()\n",
    "    for ii in ld:\n",
    "        pass\n",
    "        #print(f'ld_ii: {ii}')\n",
    "\n",
    "    i=0\n",
    "    output_list = []\n",
    "    for item in transformer.inverse_transform(pred_series):\n",
    "        i += 1\n",
    "        j=0\n",
    "        line = item.pd_dataframe().values[0]\n",
    "        #print(f'len of line[{i}]: {len(line)}')\n",
    "        ###print(f'line[{i}]: {line}')\n",
    "\n",
    "        #if i==1:\n",
    "            #print(f'line1: {line} len: {len(line)}')\n",
    "            #print(f'linea: {line[:200]}')\n",
    "            #print(f'lineb: {line[200:]}')\n",
    "        max1 = max(line[:200])\n",
    "        print(f'max1: {max1}')\n",
    "        max2 = max(line[200:])\n",
    "        print(f'max2: {max2}')\n",
    "        #print(f'item: {item}')\n",
    "        ld0 = item.pd_dataframe().values.tolist()\n",
    "        #aver = sum(ld0[0])/len(ld0[0])\n",
    "        ma = max(ld0[0])\n",
    "        output_list.append([max1, max2])\n",
    "\n",
    "    print(f'output:')\n",
    "    for out in output_list:\n",
    "        print(f'{out[0]}')\n",
    "    for out in output_list:\n",
    "        print(f'{out[1]}')\n",
    "\n",
    "    # plot actual series\n",
    "    plt.figure(figsize=figsize)\n",
    "    actual_series[: pred_series.end_time()].plot(label=\"actual\")\n",
    "\n",
    "    # plot prediction with quantile ranges\n",
    "    pred_series.plot(\n",
    "        low_quantile=lowest_q, high_quantile=highest_q, label=label_q_outer\n",
    "    )\n",
    "    pred_series.plot(low_quantile=low_q, high_quantile=high_q, label=label_q_inner)\n",
    "\n",
    "    plt.title(\"MAPE: {:.2f}%\".format(mape(val_series, pred_series)))\n",
    "    plt.legend()\n",
    "\n",
    "\n",
    "#eval_model(my_model, 24, series_transformed, val_transformed)\n",
    "eval_model(my_model, 19, series_transformed, val_transformed)"
   ]
  },
  {
   "cell_type": "markdown",
   "metadata": {},
   "source": [
    "### Backtesting\n",
    "Let's backtest our `TFTModel` model, to see how it performs with a forecast horizon of 12 months over the last 3 years:"
   ]
  },
  {
   "cell_type": "code",
   "execution_count": 10,
   "metadata": {
    "tags": []
   },
   "outputs": [
    {
     "ename": "ValueError",
     "evalue": "`start` time `2022-01-01 00:00:00` is too late in the series 0 to make any predictions with `overlap_end` set to `False`.",
     "output_type": "error",
     "traceback": [
      "\u001b[0;31m---------------------------------------------------------------------------\u001b[0m",
      "\u001b[0;31mValueError\u001b[0m                                Traceback (most recent call last)",
      "Cell \u001b[0;32mIn[10], line 1\u001b[0m\n\u001b[0;32m----> 1\u001b[0m backtest_series \u001b[38;5;241m=\u001b[39m \u001b[43mmy_model\u001b[49m\u001b[38;5;241;43m.\u001b[39;49m\u001b[43mhistorical_forecasts\u001b[49m\u001b[43m(\u001b[49m\n\u001b[1;32m      2\u001b[0m \u001b[43m    \u001b[49m\u001b[43mseries_transformed\u001b[49m\u001b[43m,\u001b[49m\n\u001b[1;32m      3\u001b[0m \u001b[43m    \u001b[49m\u001b[43mfuture_covariates\u001b[49m\u001b[38;5;241;43m=\u001b[39;49m\u001b[43mcovariates_transformed\u001b[49m\u001b[43m,\u001b[49m\n\u001b[1;32m      4\u001b[0m \u001b[43m    \u001b[49m\u001b[43mstart\u001b[49m\u001b[38;5;241;43m=\u001b[39;49m\u001b[43mtrain\u001b[49m\u001b[38;5;241;43m.\u001b[39;49m\u001b[43mend_time\u001b[49m\u001b[43m(\u001b[49m\u001b[43m)\u001b[49m\u001b[43m \u001b[49m\u001b[38;5;241;43m+\u001b[39;49m\u001b[43m \u001b[49m\u001b[43mtrain\u001b[49m\u001b[38;5;241;43m.\u001b[39;49m\u001b[43mfreq\u001b[49m\u001b[43m,\u001b[49m\n\u001b[1;32m      5\u001b[0m \u001b[43m    \u001b[49m\u001b[43mnum_samples\u001b[49m\u001b[38;5;241;43m=\u001b[39;49m\u001b[43mnum_samples\u001b[49m\u001b[43m,\u001b[49m\n\u001b[1;32m      6\u001b[0m \u001b[43m    \u001b[49m\u001b[43mforecast_horizon\u001b[49m\u001b[38;5;241;43m=\u001b[39;49m\u001b[43mforecast_horizon\u001b[49m\u001b[43m,\u001b[49m\n\u001b[1;32m      7\u001b[0m \u001b[43m    \u001b[49m\u001b[43mstride\u001b[49m\u001b[38;5;241;43m=\u001b[39;49m\u001b[43mforecast_horizon\u001b[49m\u001b[43m,\u001b[49m\n\u001b[1;32m      8\u001b[0m \u001b[43m    \u001b[49m\u001b[43mlast_points_only\u001b[49m\u001b[38;5;241;43m=\u001b[39;49m\u001b[38;5;28;43;01mFalse\u001b[39;49;00m\u001b[43m,\u001b[49m\n\u001b[1;32m      9\u001b[0m \u001b[43m    \u001b[49m\u001b[43mretrain\u001b[49m\u001b[38;5;241;43m=\u001b[39;49m\u001b[38;5;28;43;01mFalse\u001b[39;49;00m\u001b[43m,\u001b[49m\n\u001b[1;32m     10\u001b[0m \u001b[43m    \u001b[49m\u001b[43mverbose\u001b[49m\u001b[38;5;241;43m=\u001b[39;49m\u001b[38;5;28;43;01mTrue\u001b[39;49;00m\u001b[43m,\u001b[49m\n\u001b[1;32m     11\u001b[0m \u001b[43m)\u001b[49m\n",
      "File \u001b[0;32m~/darts/darts/utils/utils.py:168\u001b[0m, in \u001b[0;36m_with_sanity_checks.<locals>.decorator.<locals>.sanitized_method\u001b[0;34m(self, *args, **kwargs)\u001b[0m\n\u001b[1;32m    164\u001b[0m             only_args\u001b[38;5;241m.\u001b[39mpop(param_name)\n\u001b[1;32m    166\u001b[0m     only_args\u001b[38;5;241m.\u001b[39mpop(\u001b[38;5;124m\"\u001b[39m\u001b[38;5;124mself\u001b[39m\u001b[38;5;124m\"\u001b[39m)\n\u001b[0;32m--> 168\u001b[0m     \u001b[38;5;28;43mgetattr\u001b[39;49m\u001b[43m(\u001b[49m\u001b[38;5;28;43mself\u001b[39;49m\u001b[43m,\u001b[49m\u001b[43m \u001b[49m\u001b[43msanity_check_method\u001b[49m\u001b[43m)\u001b[49m\u001b[43m(\u001b[49m\u001b[38;5;241;43m*\u001b[39;49m\u001b[43monly_args\u001b[49m\u001b[38;5;241;43m.\u001b[39;49m\u001b[43mvalues\u001b[49m\u001b[43m(\u001b[49m\u001b[43m)\u001b[49m\u001b[43m,\u001b[49m\u001b[43m \u001b[49m\u001b[38;5;241;43m*\u001b[39;49m\u001b[38;5;241;43m*\u001b[39;49m\u001b[43monly_kwargs\u001b[49m\u001b[43m)\u001b[49m\n\u001b[1;32m    169\u001b[0m \u001b[38;5;28;01mreturn\u001b[39;00m method_to_sanitize(\u001b[38;5;28mself\u001b[39m, \u001b[38;5;241m*\u001b[39monly_args\u001b[38;5;241m.\u001b[39mvalues(), \u001b[38;5;241m*\u001b[39m\u001b[38;5;241m*\u001b[39monly_kwargs)\n",
      "File \u001b[0;32m~/darts/darts/models/forecasting/forecasting_model.py:596\u001b[0m, in \u001b[0;36mForecastingModel._historical_forecasts_sanity_checks\u001b[0;34m(self, *args, **kwargs)\u001b[0m\n\u001b[1;32m    594\u001b[0m \u001b[38;5;66;03m# parse args and kwargs\u001b[39;00m\n\u001b[1;32m    595\u001b[0m series \u001b[38;5;241m=\u001b[39m args[\u001b[38;5;241m0\u001b[39m]\n\u001b[0;32m--> 596\u001b[0m \u001b[43m_historical_forecasts_general_checks\u001b[49m\u001b[43m(\u001b[49m\u001b[38;5;28;43mself\u001b[39;49m\u001b[43m,\u001b[49m\u001b[43m \u001b[49m\u001b[43mseries\u001b[49m\u001b[43m,\u001b[49m\u001b[43m \u001b[49m\u001b[43mkwargs\u001b[49m\u001b[43m)\u001b[49m\n",
      "File \u001b[0;32m~/darts/darts/utils/historical_forecasts/utils.py:175\u001b[0m, in \u001b[0;36m_historical_forecasts_general_checks\u001b[0;34m(model, series, kwargs)\u001b[0m\n\u001b[1;32m    170\u001b[0m         overlap_end \u001b[38;5;241m=\u001b[39m n\u001b[38;5;241m.\u001b[39moverlap_end\n\u001b[1;32m    171\u001b[0m         \u001b[38;5;28;01mif\u001b[39;00m (\n\u001b[1;32m    172\u001b[0m             \u001b[38;5;129;01mnot\u001b[39;00m overlap_end\n\u001b[1;32m    173\u001b[0m             \u001b[38;5;129;01mand\u001b[39;00m start \u001b[38;5;241m+\u001b[39m (series_\u001b[38;5;241m.\u001b[39mfreq \u001b[38;5;241m*\u001b[39m (n\u001b[38;5;241m.\u001b[39mforecast_horizon \u001b[38;5;241m-\u001b[39m \u001b[38;5;241m1\u001b[39m)) \u001b[38;5;129;01mnot\u001b[39;00m \u001b[38;5;129;01min\u001b[39;00m series_\n\u001b[1;32m    174\u001b[0m         ):\n\u001b[0;32m--> 175\u001b[0m             \u001b[43mraise_log\u001b[49m\u001b[43m(\u001b[49m\n\u001b[1;32m    176\u001b[0m \u001b[43m                \u001b[49m\u001b[38;5;167;43;01mValueError\u001b[39;49;00m\u001b[43m(\u001b[49m\n\u001b[1;32m    177\u001b[0m \u001b[43m                    \u001b[49m\u001b[38;5;124;43mf\u001b[39;49m\u001b[38;5;124;43m\"\u001b[39;49m\u001b[38;5;132;43;01m{\u001b[39;49;00m\u001b[43mstart_value_msg\u001b[49m\u001b[38;5;132;43;01m}\u001b[39;49;00m\u001b[38;5;124;43m `\u001b[39;49m\u001b[38;5;132;43;01m{\u001b[39;49;00m\u001b[43mstart\u001b[49m\u001b[38;5;132;43;01m}\u001b[39;49;00m\u001b[38;5;124;43m` is too late in the series \u001b[39;49m\u001b[38;5;132;43;01m{\u001b[39;49;00m\u001b[43midx\u001b[49m\u001b[38;5;132;43;01m}\u001b[39;49;00m\u001b[38;5;124;43m to make any predictions with \u001b[39;49m\u001b[38;5;124;43m\"\u001b[39;49m\n\u001b[1;32m    178\u001b[0m \u001b[43m                    \u001b[49m\u001b[38;5;124;43mf\u001b[39;49m\u001b[38;5;124;43m\"\u001b[39;49m\u001b[38;5;124;43m`overlap_end` set to `False`.\u001b[39;49m\u001b[38;5;124;43m\"\u001b[39;49m\n\u001b[1;32m    179\u001b[0m \u001b[43m                \u001b[49m\u001b[43m)\u001b[49m\u001b[43m,\u001b[49m\n\u001b[1;32m    180\u001b[0m \u001b[43m                \u001b[49m\u001b[43mlogger\u001b[49m\u001b[43m,\u001b[49m\n\u001b[1;32m    181\u001b[0m \u001b[43m            \u001b[49m\u001b[43m)\u001b[49m\n\u001b[1;32m    183\u001b[0m \u001b[38;5;66;03m# check direct likelihood parameter prediction before fitting a model\u001b[39;00m\n\u001b[1;32m    184\u001b[0m \u001b[38;5;28;01mif\u001b[39;00m n\u001b[38;5;241m.\u001b[39mpredict_likelihood_parameters:\n",
      "File \u001b[0;32m~/darts/darts/logging.py:132\u001b[0m, in \u001b[0;36mraise_log\u001b[0;34m(exception, logger)\u001b[0m\n\u001b[1;32m    129\u001b[0m message \u001b[38;5;241m=\u001b[39m \u001b[38;5;28mstr\u001b[39m(exception)\n\u001b[1;32m    130\u001b[0m logger\u001b[38;5;241m.\u001b[39merror(exception_type \u001b[38;5;241m+\u001b[39m \u001b[38;5;124m\"\u001b[39m\u001b[38;5;124m: \u001b[39m\u001b[38;5;124m\"\u001b[39m \u001b[38;5;241m+\u001b[39m message)\n\u001b[0;32m--> 132\u001b[0m \u001b[38;5;28;01mraise\u001b[39;00m exception\n",
      "\u001b[0;31mValueError\u001b[0m: `start` time `2022-01-01 00:00:00` is too late in the series 0 to make any predictions with `overlap_end` set to `False`."
     ]
    }
   ],
   "source": [
    "backtest_series = my_model.historical_forecasts(\n",
    "    series_transformed,\n",
    "    future_covariates=covariates_transformed,\n",
    "    start=train.end_time() + train.freq,\n",
    "    num_samples=num_samples,\n",
    "    forecast_horizon=forecast_horizon,\n",
    "    stride=forecast_horizon,\n",
    "    last_points_only=False,\n",
    "    retrain=False,\n",
    "    verbose=True,\n",
    ")"
   ]
  },
  {
   "cell_type": "code",
   "execution_count": null,
   "metadata": {},
   "outputs": [],
   "source": [
    "def eval_backtest(backtest_series, actual_series, horizon, start, transformer):\n",
    "    plt.figure(figsize=figsize)\n",
    "    actual_series.plot(label=\"actual\")\n",
    "    backtest_series.plot(\n",
    "        low_quantile=lowest_q, high_quantile=highest_q, label=label_q_outer\n",
    "    )\n",
    "    backtest_series.plot(low_quantile=low_q, high_quantile=high_q, label=label_q_inner)\n",
    "    plt.legend()\n",
    "    plt.title(f\"Backtest, starting {start}, {horizon}-months horizon\")\n",
    "    print(\n",
    "        \"MAPE: {:.2f}%\".format(\n",
    "            mape(\n",
    "                transformer.inverse_transform(actual_series),\n",
    "                transformer.inverse_transform(backtest_series),\n",
    "            )\n",
    "        )\n",
    "    )\n",
    "\n",
    "\n",
    "eval_backtest(\n",
    "    backtest_series=concatenate(backtest_series),\n",
    "    actual_series=series_transformed,\n",
    "    horizon=forecast_horizon,\n",
    "    start=training_cutoff,\n",
    "    transformer=transformer,\n",
    ")"
   ]
  },
  {
   "cell_type": "markdown",
   "metadata": {},
   "source": [
    "## Monthly ice cream sales\n",
    "Let's try a another data set. That of monthly ice cream and heater sales since 2004. Our target is to predict future ice cream sales.\n",
    "First, we build the time series from the data, and check its periodicity."
   ]
  },
  {
   "cell_type": "code",
   "execution_count": null,
   "metadata": {},
   "outputs": [],
   "source": [
    "series_ice_heater = IceCreamHeaterDataset().load()\n",
    "\n",
    "plt.figure(figsize=figsize)\n",
    "series_ice_heater.plot()\n",
    "\n",
    "print(check_seasonality(series_ice_heater[\"ice cream\"], max_lag=36))\n",
    "print(check_seasonality(series_ice_heater[\"heater\"], max_lag=36))\n",
    "\n",
    "plt.figure(figsize=figsize)\n",
    "plot_acf(series_ice_heater[\"ice cream\"], 12, max_lag=36)  # ~1 year seasonality"
   ]
  },
  {
   "cell_type": "markdown",
   "metadata": {},
   "source": [
    "### Process the data\n",
    "We again have a 12-month seasonality. This time we will not define monthly future covariates -> we let the model handle this itself!\n",
    "\n",
    "Let's define past covariates instead. What if we used past data of heater sales to predict ice cream sales?"
   ]
  },
  {
   "cell_type": "code",
   "execution_count": null,
   "metadata": {},
   "outputs": [],
   "source": [
    "# convert monthly sales to average daily sales per month\n",
    "converted_series = []\n",
    "for col in [\"ice cream\", \"heater\"]:\n",
    "    converted_series.append(\n",
    "        series_ice_heater[col]\n",
    "        / TimeSeries.from_series(series_ice_heater.time_index.days_in_month)\n",
    "    )\n",
    "converted_series = concatenate(converted_series, axis=1)\n",
    "converted_series = converted_series[pd.Timestamp(\"20100101\") :]\n",
    "\n",
    "# define train/validation cutoff time\n",
    "forecast_horizon_ice = 12\n",
    "training_cutoff_ice = converted_series.time_index[-(2 * forecast_horizon_ice)]\n",
    "\n",
    "# use ice cream sales as target, create train and validation sets and transform data\n",
    "series_ice = converted_series[\"ice cream\"]\n",
    "train_ice, val_ice = series_ice.split_before(training_cutoff_ice)\n",
    "transformer_ice = Scaler()\n",
    "train_ice_transformed = transformer_ice.fit_transform(train_ice)\n",
    "val_ice_transformed = transformer_ice.transform(val_ice)\n",
    "series_ice_transformed = transformer_ice.transform(series_ice)\n",
    "\n",
    "# use heater sales as past covariates and transform data\n",
    "covariates_heat = converted_series[\"heater\"]\n",
    "cov_heat_train, cov_heat_val = covariates_heat.split_before(training_cutoff_ice)\n",
    "transformer_heat = Scaler()\n",
    "transformer_heat.fit(cov_heat_train)\n",
    "covariates_heat_transformed = transformer_heat.transform(covariates_heat)"
   ]
  },
  {
   "cell_type": "markdown",
   "metadata": {},
   "source": [
    "### Create a model with automatically generated future covariates and train it\n",
    "\n",
    "Since we don't have future covariates defined, we need tell the model to generate future covariates itself.\n",
    "\n",
    "- `add_encoders`: can add multiple encodings as past and / or future covariates from datetime attributes, cyclic repeating temporal patterns, index positions and customm functions for index encodings. You can even add a transformer that handles proper scaling of the training, validation and prediction data! Read more about it in the `TFTModel` docs [from here](https://unit8co.github.io/darts/generated_api/darts.models.forecasting.tft_model.html#temporal-fusion-transformer-tft)\n",
    "- `add_relative_index`: adds a scaled integer position relative to the prediction point for each encoder-decoder chunk (this might be useful if you really don't want to use any future covariates. The position values remain constant over all chunks and do not add additional information).\n",
    "\n",
    "We use `add_encoders={'cyclic': {'future': ['month']}}` to account for the 12-month seasonality as a future covariate.."
   ]
  },
  {
   "cell_type": "code",
   "execution_count": null,
   "metadata": {
    "scrolled": true,
    "tags": []
   },
   "outputs": [],
   "source": [
    "# use the last 3 years as past input data\n",
    "input_chunk_length_ice = 36\n",
    "\n",
    "# use `add_encoders` as we don't have future covariates\n",
    "my_model_ice = TFTModel(\n",
    "    input_chunk_length=input_chunk_length_ice,\n",
    "    output_chunk_length=forecast_horizon_ice,\n",
    "    hidden_size=32,\n",
    "    lstm_layers=1,\n",
    "    batch_size=16,\n",
    "    n_epochs=300,\n",
    "    dropout=0.1,\n",
    "    add_encoders={\"cyclic\": {\"future\": [\"month\"]}},\n",
    "    add_relative_index=False,\n",
    "    optimizer_kwargs={\"lr\": 1e-3},\n",
    "    random_state=42,\n",
    ")\n",
    "\n",
    "# fit the model with past covariates\n",
    "my_model_ice.fit(\n",
    "    train_ice_transformed, past_covariates=covariates_heat_transformed, verbose=True\n",
    ")"
   ]
  },
  {
   "cell_type": "markdown",
   "metadata": {},
   "source": [
    "### Look at predictions on the validation set\n",
    "Again, we perform a one-shot prediction of 24 months using the \"current\" model - i.e., the model at the end of the training procedure:"
   ]
  },
  {
   "cell_type": "code",
   "execution_count": null,
   "metadata": {},
   "outputs": [],
   "source": [
    "n = 24\n",
    "eval_model(\n",
    "    model=my_model_ice,\n",
    "    n=n,\n",
    "    actual_series=series_ice_transformed[\n",
    "        train_ice.end_time() - (2 * n - 1) * train_ice.freq :\n",
    "    ],\n",
    "    val_series=val_ice_transformed,\n",
    ")"
   ]
  },
  {
   "cell_type": "markdown",
   "metadata": {},
   "source": [
    "### Backtesting\n",
    "Let's backtest our `TFTModel` model, to see how it performs with a forecast horizon of 12 months over the last 2 years:"
   ]
  },
  {
   "cell_type": "code",
   "execution_count": null,
   "metadata": {},
   "outputs": [],
   "source": [
    "# Compute the backtest predictions with the two models\n",
    "last_points_only = False\n",
    "backtest_series_ice = my_model_ice.historical_forecasts(\n",
    "    series_ice_transformed,\n",
    "    num_samples=num_samples,\n",
    "    start=training_cutoff_ice,\n",
    "    forecast_horizon=forecast_horizon_ice,\n",
    "    stride=1 if last_points_only else forecast_horizon_ice,\n",
    "    retrain=False,\n",
    "    last_points_only=last_points_only,\n",
    "    overlap_end=True,\n",
    "    verbose=True,\n",
    ")\n",
    "\n",
    "backtest_series_ice = (\n",
    "    concatenate(backtest_series_ice)\n",
    "    if isinstance(backtest_series_ice, list)\n",
    "    else backtest_series_ice\n",
    ")"
   ]
  },
  {
   "cell_type": "code",
   "execution_count": null,
   "metadata": {},
   "outputs": [],
   "source": [
    "eval_backtest(\n",
    "    backtest_series=backtest_series_ice,\n",
    "    actual_series=series_ice_transformed[\n",
    "        train_ice.start_time() - 2 * forecast_horizon_ice * train_ice.freq :\n",
    "    ],\n",
    "    horizon=forecast_horizon_ice,\n",
    "    start=training_cutoff_ice,\n",
    "    transformer=transformer_ice,\n",
    ")"
   ]
  },
  {
   "cell_type": "markdown",
   "metadata": {},
   "source": [
    "### Explainability\n",
    "Let's try to understand what our `TFTModel` model has learned. It would be nice to see the feature importance and how much the model attentds to past and future input.\n",
    "\n",
    "The `TFTExplainer` does exactly that! You can find the documentation [here](https://unit8co.github.io/darts/generated_api/darts.explainability.tft_explainer.html)."
   ]
  },
  {
   "cell_type": "code",
   "execution_count": null,
   "metadata": {},
   "outputs": [],
   "source": [
    "from darts.explainability import TFTExplainer"
   ]
  },
  {
   "cell_type": "markdown",
   "metadata": {},
   "source": [
    "To instantiate the explainer we have two options:\n",
    "- pass a custom background series input to be used as the default input for explanation.\n",
    "- let the explainer load the background from the model automatically. This is only possible if the model was trained on a single target series (as in our case)."
   ]
  },
  {
   "cell_type": "code",
   "execution_count": null,
   "metadata": {},
   "outputs": [],
   "source": [
    "explainer = TFTExplainer(my_model_ice)"
   ]
  },
  {
   "cell_type": "markdown",
   "metadata": {},
   "source": [
    "Now we can generate the explanations with `explain()`. For this we again have two options:\n",
    "- pass a custom foreground series input to be explained\n",
    "- don't pass any foreground to explain the background"
   ]
  },
  {
   "cell_type": "code",
   "execution_count": null,
   "metadata": {},
   "outputs": [],
   "source": [
    "explainability_result = explainer.explain()"
   ]
  },
  {
   "cell_type": "markdown",
   "metadata": {},
   "source": [
    "Let's look at the feature importances:\n",
    "- encoder feature importance: contains past target, past covariates and \"historic\" future covariates (the values of future covariates in the input chunk)\n",
    "- decoder fetaure importance: contains \"future\" future covariates (the values of future covariates in the output chunk)\n",
    "- static covariates importance: the importances of the static variables (only displayed if the model was trained on `series` with static covariates)"
   ]
  },
  {
   "cell_type": "code",
   "execution_count": null,
   "metadata": {},
   "outputs": [],
   "source": [
    "explainer.plot_variable_selection(explainability_result)"
   ]
  },
  {
   "cell_type": "markdown",
   "metadata": {},
   "source": [
    "As expected, the past history of ice cream sales is the most important feature in the encoder.\n",
    "The cyclic encoding of the month also helped in the encoder and decoder to learn seasonal patterns."
   ]
  },
  {
   "cell_type": "markdown",
   "metadata": {},
   "source": [
    "Let's look at the attention (weights) that the model put on past and future input.\n",
    "\n",
    "We have multiple plotting options:\n",
    "\n",
    "`plot_type`\n",
    "- \"time\" - plots the attention aggregated over all predictions steps\n",
    "- \"all\" - plots the attention for each prediction step individually (ranges from `1` until `output_chunk_length`)\n",
    "- \"heatmap\" - plots all the attention for each prediction step as a heatmap\n",
    "\n",
    "`show_index_as`\n",
    "- \"relative\" - sets the x-axis relative to the first predicted time step, ranging from `-input_chunk_length` until `output_chunk_length - 1`. `0` indicates the first predicted time step (highlighted by a dashed line).\n",
    "- \"time\" - Uses the actual time index on the x-axis. The dashed line highlights the first predicted time step."
   ]
  },
  {
   "cell_type": "code",
   "execution_count": null,
   "metadata": {},
   "outputs": [],
   "source": [
    "explainer.plot_attention(explainability_result, plot_type=\"time\")"
   ]
  },
  {
   "cell_type": "markdown",
   "metadata": {},
   "source": [
    "We can see interesting attention areas:\n",
    "- maximum attention at relative index -12. This indicates a yearly seasonality which makes sense for ice cream sales.\n",
    "- high attention at the start (-36) of the input chunk: this is probably both from catching the value range of current input and the seasonality (-3 years)\n",
    "- higher attention towards the end (-1) of the input chunk: the model puts attention on the recent past\n",
    "- attention on future input (we look at this more in the next plot)"
   ]
  },
  {
   "cell_type": "code",
   "execution_count": null,
   "metadata": {},
   "outputs": [],
   "source": [
    "explainer.plot_attention(explainability_result, plot_type=\"all\")"
   ]
  },
  {
   "cell_type": "markdown",
   "metadata": {},
   "source": [
    "On the output chunk (index 0 - 11), we see that the model only attends to the past relative of each horizon. This is because `TFTModel` uses `full_attention=False` by default. When setting this to `True`, the model will also attend to current, and future input."
   ]
  },
  {
   "cell_type": "code",
   "execution_count": null,
   "metadata": {},
   "outputs": [],
   "source": [
    "explainer.plot_attention(explainability_result, plot_type=\"heatmap\")"
   ]
  },
  {
   "cell_type": "markdown",
   "metadata": {},
   "source": [
    "We can also get the values directly from the `exlainability_result`. You can find the documentation [here](https://unit8co.github.io/darts/generated_api/darts.explainability.explainability_result.html#darts.explainability.explainability_result.TFTExplainabilityResult)."
   ]
  },
  {
   "cell_type": "code",
   "execution_count": null,
   "metadata": {},
   "outputs": [],
   "source": [
    "explainability_result.get_encoder_importance()"
   ]
  },
  {
   "cell_type": "code",
   "execution_count": null,
   "metadata": {},
   "outputs": [],
   "source": [
    "explainability_result.get_decoder_importance()"
   ]
  },
  {
   "cell_type": "code",
   "execution_count": null,
   "metadata": {},
   "outputs": [],
   "source": [
    "explainability_result.get_static_covariates_importance()"
   ]
  },
  {
   "cell_type": "markdown",
   "metadata": {},
   "source": [
    "We can also extract the attention as a TimeSeries, and plot it against the data."
   ]
  },
  {
   "cell_type": "code",
   "execution_count": null,
   "metadata": {},
   "outputs": [],
   "source": [
    "attention = explainability_result.get_attention().mean(axis=1)\n",
    "\n",
    "time_intersection = train_ice_transformed.time_index.intersection(attention.time_index)\n",
    "\n",
    "train_ice_transformed[time_intersection].plot()\n",
    "attention.plot(label=\"mean_attention\", max_nr_components=12)"
   ]
  },
  {
   "cell_type": "markdown",
   "metadata": {},
   "source": [
    "### Some more information\n",
    "\n",
    "Although we have only looked at a single univariate forecasting example, the `TFTExplainer` can be seemlessly applied to multivariate and / or multiple `TimeSeries` use cases."
   ]
  },
  {
   "cell_type": "code",
   "execution_count": null,
   "metadata": {},
   "outputs": [],
   "source": []
  }
 ],
 "metadata": {
  "kernelspec": {
   "display_name": "ju_kernel",
   "language": "python",
   "name": "ju_kernel"
  },
  "language_info": {
   "codemirror_mode": {
    "name": "ipython",
    "version": 3
   },
   "file_extension": ".py",
   "mimetype": "text/x-python",
   "name": "python",
   "nbconvert_exporter": "python",
   "pygments_lexer": "ipython3",
   "version": "3.10.13"
  }
 },
 "nbformat": 4,
 "nbformat_minor": 4
}
